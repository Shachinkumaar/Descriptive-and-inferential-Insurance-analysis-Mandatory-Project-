{
 "cells": [
  {
   "cell_type": "markdown",
   "id": "28547c03",
   "metadata": {},
   "source": [
    "project_01_sk"
   ]
  },
  {
   "cell_type": "code",
   "execution_count": 73,
   "id": "aaa5a7f4",
   "metadata": {},
   "outputs": [],
   "source": [
    "import pandas as pd\n",
    "import numpy as np\n",
    "import matplotlib.pyplot as plt\n",
    "import seaborn as sns\n",
    "%matplotlib inline\n",
    "import scipy.stats as st"
   ]
  },
  {
   "cell_type": "code",
   "execution_count": 75,
   "id": "bf94b34c",
   "metadata": {},
   "outputs": [],
   "source": [
    "# 1.Explain the data. Check It is supervised or Unsupervised. Demonstrate?\n",
    "# unsupervised learning does not uses labeled input and output data while supervised can do it.---\n",
    " # Supervised learning is a machine learning approach that's defined by its use of labeled datasets. \n",
    " #These datasets are designed to train or “supervise” algorithms into classifying data or predicting outcomes accurately. \n",
    " #Using labeled inputs and outputs, the model can measure its accuracy and learn over time.---"
   ]
  },
  {
   "cell_type": "code",
   "execution_count": 76,
   "id": "d71616ec",
   "metadata": {},
   "outputs": [
    {
     "data": {
      "text/html": [
       "<div>\n",
       "<style scoped>\n",
       "    .dataframe tbody tr th:only-of-type {\n",
       "        vertical-align: middle;\n",
       "    }\n",
       "\n",
       "    .dataframe tbody tr th {\n",
       "        vertical-align: top;\n",
       "    }\n",
       "\n",
       "    .dataframe thead th {\n",
       "        text-align: right;\n",
       "    }\n",
       "</style>\n",
       "<table border=\"1\" class=\"dataframe\">\n",
       "  <thead>\n",
       "    <tr style=\"text-align: right;\">\n",
       "      <th></th>\n",
       "      <th>age</th>\n",
       "      <th>sex</th>\n",
       "      <th>bmi</th>\n",
       "      <th>children</th>\n",
       "      <th>smoker</th>\n",
       "      <th>region</th>\n",
       "      <th>charges</th>\n",
       "    </tr>\n",
       "  </thead>\n",
       "  <tbody>\n",
       "    <tr>\n",
       "      <th>0</th>\n",
       "      <td>19</td>\n",
       "      <td>female</td>\n",
       "      <td>27.900</td>\n",
       "      <td>0</td>\n",
       "      <td>yes</td>\n",
       "      <td>southwest</td>\n",
       "      <td>16884.92400</td>\n",
       "    </tr>\n",
       "    <tr>\n",
       "      <th>1</th>\n",
       "      <td>18</td>\n",
       "      <td>male</td>\n",
       "      <td>33.770</td>\n",
       "      <td>1</td>\n",
       "      <td>no</td>\n",
       "      <td>southeast</td>\n",
       "      <td>1725.55230</td>\n",
       "    </tr>\n",
       "    <tr>\n",
       "      <th>2</th>\n",
       "      <td>28</td>\n",
       "      <td>male</td>\n",
       "      <td>33.000</td>\n",
       "      <td>3</td>\n",
       "      <td>no</td>\n",
       "      <td>southeast</td>\n",
       "      <td>4449.46200</td>\n",
       "    </tr>\n",
       "    <tr>\n",
       "      <th>3</th>\n",
       "      <td>33</td>\n",
       "      <td>male</td>\n",
       "      <td>22.705</td>\n",
       "      <td>0</td>\n",
       "      <td>no</td>\n",
       "      <td>northwest</td>\n",
       "      <td>21984.47061</td>\n",
       "    </tr>\n",
       "    <tr>\n",
       "      <th>4</th>\n",
       "      <td>32</td>\n",
       "      <td>male</td>\n",
       "      <td>28.880</td>\n",
       "      <td>0</td>\n",
       "      <td>no</td>\n",
       "      <td>northwest</td>\n",
       "      <td>3866.85520</td>\n",
       "    </tr>\n",
       "    <tr>\n",
       "      <th>...</th>\n",
       "      <td>...</td>\n",
       "      <td>...</td>\n",
       "      <td>...</td>\n",
       "      <td>...</td>\n",
       "      <td>...</td>\n",
       "      <td>...</td>\n",
       "      <td>...</td>\n",
       "    </tr>\n",
       "    <tr>\n",
       "      <th>1333</th>\n",
       "      <td>50</td>\n",
       "      <td>male</td>\n",
       "      <td>30.970</td>\n",
       "      <td>3</td>\n",
       "      <td>no</td>\n",
       "      <td>northwest</td>\n",
       "      <td>10600.54830</td>\n",
       "    </tr>\n",
       "    <tr>\n",
       "      <th>1334</th>\n",
       "      <td>18</td>\n",
       "      <td>female</td>\n",
       "      <td>31.920</td>\n",
       "      <td>0</td>\n",
       "      <td>no</td>\n",
       "      <td>northeast</td>\n",
       "      <td>2205.98080</td>\n",
       "    </tr>\n",
       "    <tr>\n",
       "      <th>1335</th>\n",
       "      <td>18</td>\n",
       "      <td>female</td>\n",
       "      <td>36.850</td>\n",
       "      <td>0</td>\n",
       "      <td>no</td>\n",
       "      <td>southeast</td>\n",
       "      <td>1629.83350</td>\n",
       "    </tr>\n",
       "    <tr>\n",
       "      <th>1336</th>\n",
       "      <td>21</td>\n",
       "      <td>female</td>\n",
       "      <td>25.800</td>\n",
       "      <td>0</td>\n",
       "      <td>no</td>\n",
       "      <td>southwest</td>\n",
       "      <td>2007.94500</td>\n",
       "    </tr>\n",
       "    <tr>\n",
       "      <th>1337</th>\n",
       "      <td>61</td>\n",
       "      <td>female</td>\n",
       "      <td>29.070</td>\n",
       "      <td>0</td>\n",
       "      <td>yes</td>\n",
       "      <td>northwest</td>\n",
       "      <td>29141.36030</td>\n",
       "    </tr>\n",
       "  </tbody>\n",
       "</table>\n",
       "<p>1338 rows × 7 columns</p>\n",
       "</div>"
      ],
      "text/plain": [
       "      age     sex     bmi  children smoker     region      charges\n",
       "0      19  female  27.900         0    yes  southwest  16884.92400\n",
       "1      18    male  33.770         1     no  southeast   1725.55230\n",
       "2      28    male  33.000         3     no  southeast   4449.46200\n",
       "3      33    male  22.705         0     no  northwest  21984.47061\n",
       "4      32    male  28.880         0     no  northwest   3866.85520\n",
       "...   ...     ...     ...       ...    ...        ...          ...\n",
       "1333   50    male  30.970         3     no  northwest  10600.54830\n",
       "1334   18  female  31.920         0     no  northeast   2205.98080\n",
       "1335   18  female  36.850         0     no  southeast   1629.83350\n",
       "1336   21  female  25.800         0     no  southwest   2007.94500\n",
       "1337   61  female  29.070         0    yes  northwest  29141.36030\n",
       "\n",
       "[1338 rows x 7 columns]"
      ]
     },
     "execution_count": 76,
     "metadata": {},
     "output_type": "execute_result"
    }
   ],
   "source": [
    "data=pd.read_csv('insurance.csv')\n",
    "\n",
    "data"
   ]
  },
  {
   "cell_type": "code",
   "execution_count": 77,
   "id": "eae63784",
   "metadata": {},
   "outputs": [
    {
     "name": "stdout",
     "output_type": "stream",
     "text": [
      "4128.062499999999\n"
     ]
    }
   ],
   "source": [
    "# 2.Estimate the minimum sample size n to get the 99% accurate predictions. (precision = 0.02)\n",
    "#  z=-2.57  for(0.01/2) since two tailed from stat table\n",
    "\n",
    "z=-2.57\n",
    "e=0.02\n",
    "p=0.5\n",
    "q=1-p\n",
    "\n",
    "samplesize_n= (z**2/e**2)*p*q\n",
    "print(samplesize_n)"
   ]
  },
  {
   "cell_type": "code",
   "execution_count": 78,
   "id": "8e621513",
   "metadata": {},
   "outputs": [
    {
     "data": {
      "text/plain": [
       "age         0\n",
       "sex         0\n",
       "bmi         0\n",
       "children    0\n",
       "smoker      0\n",
       "region      0\n",
       "charges     0\n",
       "dtype: int64"
      ]
     },
     "execution_count": 78,
     "metadata": {},
     "output_type": "execute_result"
    }
   ],
   "source": [
    "# 3. Check the data is cleaned or not. If not then clean it (Null values, Row/Column Duplicates, Outliers, Change the string into numbers)\n",
    "\n",
    "data.isnull().sum()"
   ]
  },
  {
   "cell_type": "code",
   "execution_count": 79,
   "id": "82445d10",
   "metadata": {},
   "outputs": [
    {
     "data": {
      "text/plain": [
       "1"
      ]
     },
     "execution_count": 79,
     "metadata": {},
     "output_type": "execute_result"
    }
   ],
   "source": [
    "data.duplicated().sum()"
   ]
  },
  {
   "cell_type": "code",
   "execution_count": 80,
   "id": "ad3fc589",
   "metadata": {},
   "outputs": [
    {
     "data": {
      "text/html": [
       "<div>\n",
       "<style scoped>\n",
       "    .dataframe tbody tr th:only-of-type {\n",
       "        vertical-align: middle;\n",
       "    }\n",
       "\n",
       "    .dataframe tbody tr th {\n",
       "        vertical-align: top;\n",
       "    }\n",
       "\n",
       "    .dataframe thead th {\n",
       "        text-align: right;\n",
       "    }\n",
       "</style>\n",
       "<table border=\"1\" class=\"dataframe\">\n",
       "  <thead>\n",
       "    <tr style=\"text-align: right;\">\n",
       "      <th></th>\n",
       "      <th>age</th>\n",
       "      <th>sex</th>\n",
       "      <th>bmi</th>\n",
       "      <th>children</th>\n",
       "      <th>smoker</th>\n",
       "      <th>region</th>\n",
       "      <th>charges</th>\n",
       "    </tr>\n",
       "  </thead>\n",
       "  <tbody>\n",
       "    <tr>\n",
       "      <th>195</th>\n",
       "      <td>19</td>\n",
       "      <td>male</td>\n",
       "      <td>30.59</td>\n",
       "      <td>0</td>\n",
       "      <td>no</td>\n",
       "      <td>northwest</td>\n",
       "      <td>1639.5631</td>\n",
       "    </tr>\n",
       "  </tbody>\n",
       "</table>\n",
       "</div>"
      ],
      "text/plain": [
       "     age   sex    bmi  children smoker     region    charges\n",
       "195   19  male  30.59         0     no  northwest  1639.5631"
      ]
     },
     "execution_count": 80,
     "metadata": {},
     "output_type": "execute_result"
    }
   ],
   "source": [
    "duplicates=data[data.duplicated(keep='last')]\n",
    "duplicates"
   ]
  },
  {
   "cell_type": "code",
   "execution_count": 81,
   "id": "f3f441c9",
   "metadata": {},
   "outputs": [],
   "source": [
    "data.drop_duplicates(inplace = True)"
   ]
  },
  {
   "cell_type": "code",
   "execution_count": 82,
   "id": "bcf65d9f",
   "metadata": {},
   "outputs": [
    {
     "data": {
      "text/plain": [
       "0"
      ]
     },
     "execution_count": 82,
     "metadata": {},
     "output_type": "execute_result"
    }
   ],
   "source": [
    "data.duplicated().sum()"
   ]
  },
  {
   "cell_type": "code",
   "execution_count": 84,
   "id": "5f5e4eca",
   "metadata": {},
   "outputs": [
    {
     "name": "stdout",
     "output_type": "stream",
     "text": [
      "age\n",
      " percentage= 0.0\n",
      " number=0\n",
      " mean= 39.222139117427076\n",
      " min=18\n",
      " max=64\n",
      "bmi\n",
      " percentage= 0.6731488406881078\n",
      " number=9\n",
      " mean= 30.663451757666405\n",
      " min=15.96\n",
      " max=53.13\n",
      "children\n",
      " percentage= 0.0\n",
      " number=0\n",
      " mean= 1.0957367240089753\n",
      " min=0\n",
      " max=5\n",
      "charges\n",
      " percentage= 10.396409872849663\n",
      " number=139\n",
      " mean= 13279.121486655948\n",
      " min=1121.8739\n",
      " max=63770.42801\n"
     ]
    }
   ],
   "source": [
    "\n",
    "def outlier(colum):\n",
    "    m= data[colum].mean()\n",
    "    m1= data[colum].min()\n",
    "    m2=data[colum].max()\n",
    "    l= len(data)\n",
    "    q1= data[colum].quantile(0.25)\n",
    "    q3=data[colum].quantile(0.75)\n",
    "    IQR= q3-q1\n",
    "    lower= q1-(IQR*1.5)\n",
    "    upper= q3+(IQR*1.5)\n",
    "    n= len(data.loc[np.where((data[colum] > upper) | (data[colum] < lower))])\n",
    "    perc= (n/l)*100\n",
    "    print(f'{colum}\\n percentage= {perc}\\n number={n}\\n mean= {m}\\n min={m1}\\n max={m2}')\n",
    "    \n",
    "for i in data.select_dtypes(exclude='object').columns:\n",
    "    outlier(i)"
   ]
  },
  {
   "cell_type": "code",
   "execution_count": 85,
   "id": "e6cfdfeb",
   "metadata": {},
   "outputs": [
    {
     "data": {
      "text/html": [
       "<div>\n",
       "<style scoped>\n",
       "    .dataframe tbody tr th:only-of-type {\n",
       "        vertical-align: middle;\n",
       "    }\n",
       "\n",
       "    .dataframe tbody tr th {\n",
       "        vertical-align: top;\n",
       "    }\n",
       "\n",
       "    .dataframe thead th {\n",
       "        text-align: right;\n",
       "    }\n",
       "</style>\n",
       "<table border=\"1\" class=\"dataframe\">\n",
       "  <thead>\n",
       "    <tr style=\"text-align: right;\">\n",
       "      <th></th>\n",
       "      <th>age</th>\n",
       "      <th>bmi</th>\n",
       "      <th>children</th>\n",
       "      <th>charges</th>\n",
       "    </tr>\n",
       "  </thead>\n",
       "  <tbody>\n",
       "    <tr>\n",
       "      <th>count</th>\n",
       "      <td>1337.000000</td>\n",
       "      <td>1337.000000</td>\n",
       "      <td>1337.000000</td>\n",
       "      <td>1337.000000</td>\n",
       "    </tr>\n",
       "    <tr>\n",
       "      <th>mean</th>\n",
       "      <td>39.222139</td>\n",
       "      <td>30.663452</td>\n",
       "      <td>1.095737</td>\n",
       "      <td>13279.121487</td>\n",
       "    </tr>\n",
       "    <tr>\n",
       "      <th>std</th>\n",
       "      <td>14.044333</td>\n",
       "      <td>6.100468</td>\n",
       "      <td>1.205571</td>\n",
       "      <td>12110.359656</td>\n",
       "    </tr>\n",
       "    <tr>\n",
       "      <th>min</th>\n",
       "      <td>18.000000</td>\n",
       "      <td>15.960000</td>\n",
       "      <td>0.000000</td>\n",
       "      <td>1121.873900</td>\n",
       "    </tr>\n",
       "    <tr>\n",
       "      <th>25%</th>\n",
       "      <td>27.000000</td>\n",
       "      <td>26.290000</td>\n",
       "      <td>0.000000</td>\n",
       "      <td>4746.344000</td>\n",
       "    </tr>\n",
       "    <tr>\n",
       "      <th>50%</th>\n",
       "      <td>39.000000</td>\n",
       "      <td>30.400000</td>\n",
       "      <td>1.000000</td>\n",
       "      <td>9386.161300</td>\n",
       "    </tr>\n",
       "    <tr>\n",
       "      <th>75%</th>\n",
       "      <td>51.000000</td>\n",
       "      <td>34.700000</td>\n",
       "      <td>2.000000</td>\n",
       "      <td>16657.717450</td>\n",
       "    </tr>\n",
       "    <tr>\n",
       "      <th>max</th>\n",
       "      <td>64.000000</td>\n",
       "      <td>53.130000</td>\n",
       "      <td>5.000000</td>\n",
       "      <td>63770.428010</td>\n",
       "    </tr>\n",
       "  </tbody>\n",
       "</table>\n",
       "</div>"
      ],
      "text/plain": [
       "               age          bmi     children       charges\n",
       "count  1337.000000  1337.000000  1337.000000   1337.000000\n",
       "mean     39.222139    30.663452     1.095737  13279.121487\n",
       "std      14.044333     6.100468     1.205571  12110.359656\n",
       "min      18.000000    15.960000     0.000000   1121.873900\n",
       "25%      27.000000    26.290000     0.000000   4746.344000\n",
       "50%      39.000000    30.400000     1.000000   9386.161300\n",
       "75%      51.000000    34.700000     2.000000  16657.717450\n",
       "max      64.000000    53.130000     5.000000  63770.428010"
      ]
     },
     "execution_count": 85,
     "metadata": {},
     "output_type": "execute_result"
    }
   ],
   "source": [
    "data.describe()"
   ]
  },
  {
   "cell_type": "code",
   "execution_count": 86,
   "id": "6feab884",
   "metadata": {},
   "outputs": [
    {
     "data": {
      "text/html": [
       "<div>\n",
       "<style scoped>\n",
       "    .dataframe tbody tr th:only-of-type {\n",
       "        vertical-align: middle;\n",
       "    }\n",
       "\n",
       "    .dataframe tbody tr th {\n",
       "        vertical-align: top;\n",
       "    }\n",
       "\n",
       "    .dataframe thead th {\n",
       "        text-align: right;\n",
       "    }\n",
       "</style>\n",
       "<table border=\"1\" class=\"dataframe\">\n",
       "  <thead>\n",
       "    <tr style=\"text-align: right;\">\n",
       "      <th></th>\n",
       "      <th>age</th>\n",
       "      <th>sex</th>\n",
       "      <th>bmi</th>\n",
       "      <th>children</th>\n",
       "      <th>smoker</th>\n",
       "      <th>region</th>\n",
       "      <th>charges</th>\n",
       "    </tr>\n",
       "  </thead>\n",
       "  <tbody>\n",
       "    <tr>\n",
       "      <th>0</th>\n",
       "      <td>19</td>\n",
       "      <td>1</td>\n",
       "      <td>27.900</td>\n",
       "      <td>0</td>\n",
       "      <td>1</td>\n",
       "      <td>1</td>\n",
       "      <td>16884.92400</td>\n",
       "    </tr>\n",
       "    <tr>\n",
       "      <th>1</th>\n",
       "      <td>18</td>\n",
       "      <td>0</td>\n",
       "      <td>33.770</td>\n",
       "      <td>1</td>\n",
       "      <td>0</td>\n",
       "      <td>2</td>\n",
       "      <td>1725.55230</td>\n",
       "    </tr>\n",
       "    <tr>\n",
       "      <th>2</th>\n",
       "      <td>28</td>\n",
       "      <td>0</td>\n",
       "      <td>33.000</td>\n",
       "      <td>3</td>\n",
       "      <td>0</td>\n",
       "      <td>2</td>\n",
       "      <td>4449.46200</td>\n",
       "    </tr>\n",
       "    <tr>\n",
       "      <th>3</th>\n",
       "      <td>33</td>\n",
       "      <td>0</td>\n",
       "      <td>22.705</td>\n",
       "      <td>0</td>\n",
       "      <td>0</td>\n",
       "      <td>3</td>\n",
       "      <td>21984.47061</td>\n",
       "    </tr>\n",
       "    <tr>\n",
       "      <th>4</th>\n",
       "      <td>32</td>\n",
       "      <td>0</td>\n",
       "      <td>28.880</td>\n",
       "      <td>0</td>\n",
       "      <td>0</td>\n",
       "      <td>3</td>\n",
       "      <td>3866.85520</td>\n",
       "    </tr>\n",
       "    <tr>\n",
       "      <th>...</th>\n",
       "      <td>...</td>\n",
       "      <td>...</td>\n",
       "      <td>...</td>\n",
       "      <td>...</td>\n",
       "      <td>...</td>\n",
       "      <td>...</td>\n",
       "      <td>...</td>\n",
       "    </tr>\n",
       "    <tr>\n",
       "      <th>1333</th>\n",
       "      <td>50</td>\n",
       "      <td>0</td>\n",
       "      <td>30.970</td>\n",
       "      <td>3</td>\n",
       "      <td>0</td>\n",
       "      <td>3</td>\n",
       "      <td>10600.54830</td>\n",
       "    </tr>\n",
       "    <tr>\n",
       "      <th>1334</th>\n",
       "      <td>18</td>\n",
       "      <td>1</td>\n",
       "      <td>31.920</td>\n",
       "      <td>0</td>\n",
       "      <td>0</td>\n",
       "      <td>4</td>\n",
       "      <td>2205.98080</td>\n",
       "    </tr>\n",
       "    <tr>\n",
       "      <th>1335</th>\n",
       "      <td>18</td>\n",
       "      <td>1</td>\n",
       "      <td>36.850</td>\n",
       "      <td>0</td>\n",
       "      <td>0</td>\n",
       "      <td>2</td>\n",
       "      <td>1629.83350</td>\n",
       "    </tr>\n",
       "    <tr>\n",
       "      <th>1336</th>\n",
       "      <td>21</td>\n",
       "      <td>1</td>\n",
       "      <td>25.800</td>\n",
       "      <td>0</td>\n",
       "      <td>0</td>\n",
       "      <td>1</td>\n",
       "      <td>2007.94500</td>\n",
       "    </tr>\n",
       "    <tr>\n",
       "      <th>1337</th>\n",
       "      <td>61</td>\n",
       "      <td>1</td>\n",
       "      <td>29.070</td>\n",
       "      <td>0</td>\n",
       "      <td>1</td>\n",
       "      <td>3</td>\n",
       "      <td>29141.36030</td>\n",
       "    </tr>\n",
       "  </tbody>\n",
       "</table>\n",
       "<p>1337 rows × 7 columns</p>\n",
       "</div>"
      ],
      "text/plain": [
       "      age  sex     bmi  children  smoker  region      charges\n",
       "0      19    1  27.900         0       1       1  16884.92400\n",
       "1      18    0  33.770         1       0       2   1725.55230\n",
       "2      28    0  33.000         3       0       2   4449.46200\n",
       "3      33    0  22.705         0       0       3  21984.47061\n",
       "4      32    0  28.880         0       0       3   3866.85520\n",
       "...   ...  ...     ...       ...     ...     ...          ...\n",
       "1333   50    0  30.970         3       0       3  10600.54830\n",
       "1334   18    1  31.920         0       0       4   2205.98080\n",
       "1335   18    1  36.850         0       0       2   1629.83350\n",
       "1336   21    1  25.800         0       0       1   2007.94500\n",
       "1337   61    1  29.070         0       1       3  29141.36030\n",
       "\n",
       "[1337 rows x 7 columns]"
      ]
     },
     "execution_count": 86,
     "metadata": {},
     "output_type": "execute_result"
    }
   ],
   "source": [
    "data['sex']=data['sex'].map({'male':0,'female':1}).astype(int)\n",
    "data['smoker']=data['smoker'].map({'yes':1,'no':0}).astype(int)\n",
    "data['region']=data['region'].map({'southwest':1,'southeast':2,'northwest':3,'northeast':4}).astype(int)\n",
    "data"
   ]
  },
  {
   "cell_type": "code",
   "execution_count": 87,
   "id": "7653ff96",
   "metadata": {},
   "outputs": [
    {
     "name": "stdout",
     "output_type": "stream",
     "text": [
      "-0.07659585039335874\n"
     ]
    }
   ],
   "source": [
    "# 4. Check that sex and smoking are statistically independent or not.\n",
    "column_1=data[\"sex\"]\n",
    "column_2=data[\"smoker\"]\n",
    "correlation=column_1.corr(column_2)\n",
    "print(correlation)\n",
    "# They both are independent."
   ]
  },
  {
   "cell_type": "code",
   "execution_count": 88,
   "id": "a4f9624b",
   "metadata": {},
   "outputs": [
    {
     "name": "stdout",
     "output_type": "stream",
     "text": [
      "-0.025587117601993975\n"
     ]
    }
   ],
   "source": [
    "# 5. Check that all regressor variables (independent variable) are independent of each other or not.\n",
    "# Independent variables are age,sex,bmi,smoker and children.All regressor variables (independent variable) are independent of each other.\n",
    "column_a = data[\"age\"]\n",
    "column_b = data[\"smoker\"]\n",
    "correlation = column_a.corr(column_b)\n",
    "print(correlation)"
   ]
  },
  {
   "cell_type": "code",
   "execution_count": 50,
   "id": "f70d49f3",
   "metadata": {},
   "outputs": [
    {
     "name": "stdout",
     "output_type": "stream",
     "text": [
      "-0.0007188576016893378\n",
      "0.23296752685128622\n"
     ]
    }
   ],
   "source": [
    "x=data['age']\n",
    "y=data['smoker']\n",
    "\n",
    "xmean=data.age.mean()\n",
    "data['diffx'] = xmean - x\n",
    "data['diff_x^2'] = data.diffx**2\n",
    "SSxx = data['diff_x^2'].sum()\n",
    "\n",
    "ymean =y.mean()\n",
    "data['diffy'] = ymean - y\n",
    "SSxy = (data.diffx * data.diffy).sum()\n",
    "\n",
    "m = SSxy/SSxx\n",
    "print(m)\n",
    "\n",
    "b=ymean- m*xmean\n",
    "print(b)\n",
    "\n",
    "def predicted_y(value):\n",
    "    predict =m+value+b\n",
    "    return predict"
   ]
  },
  {
   "cell_type": "code",
   "execution_count": 89,
   "id": "ce0e8ced",
   "metadata": {},
   "outputs": [
    {
     "data": {
      "text/plain": [
       "217.88938714499255"
      ]
     },
     "execution_count": 89,
     "metadata": {},
     "output_type": "execute_result"
    }
   ],
   "source": [
    "total_some_squares = ((y-ymean)**2).sum()\n",
    "total_some_squares"
   ]
  },
  {
   "cell_type": "code",
   "execution_count": 94,
   "id": "2d1aeea4",
   "metadata": {},
   "outputs": [
    {
     "data": {
      "text/plain": [
       "0       16903.923281\n",
       "1        1743.551581\n",
       "2        4477.461281\n",
       "3       22017.469891\n",
       "4        3898.854481\n",
       "            ...     \n",
       "1333    10650.547581\n",
       "1334     2223.980081\n",
       "1335     1647.832781\n",
       "1336     2028.944281\n",
       "1337    29202.359581\n",
       "Name: age, Length: 1338, dtype: float64"
      ]
     },
     "execution_count": 94,
     "metadata": {},
     "output_type": "execute_result"
    }
   ],
   "source": [
    "y_hatt=predicted_y(x)\n",
    "y_hatt"
   ]
  },
  {
   "cell_type": "code",
   "execution_count": 97,
   "id": "10a2bf48",
   "metadata": {},
   "outputs": [
    {
     "data": {
      "text/plain": [
       "433214572971.3558"
      ]
     },
     "execution_count": 97,
     "metadata": {},
     "output_type": "execute_result"
    }
   ],
   "source": [
    "some_residual_squares = ((y-y_hatt)**2).sum()\n",
    "some_residual_squares"
   ]
  },
  {
   "cell_type": "code",
   "execution_count": 98,
   "id": "8d1818d0",
   "metadata": {},
   "outputs": [
    {
     "data": {
      "text/plain": [
       "0.9999999994970405"
      ]
     },
     "execution_count": 98,
     "metadata": {},
     "output_type": "execute_result"
    }
   ],
   "source": [
    "R_square=1-total_some_squares/some_residual_squares\n",
    "R_square"
   ]
  },
  {
   "cell_type": "code",
   "execution_count": 99,
   "id": "59e6fccb",
   "metadata": {},
   "outputs": [
    {
     "data": {
      "text/html": [
       "<div>\n",
       "<style scoped>\n",
       "    .dataframe tbody tr th:only-of-type {\n",
       "        vertical-align: middle;\n",
       "    }\n",
       "\n",
       "    .dataframe tbody tr th {\n",
       "        vertical-align: top;\n",
       "    }\n",
       "\n",
       "    .dataframe thead th {\n",
       "        text-align: right;\n",
       "    }\n",
       "</style>\n",
       "<table border=\"1\" class=\"dataframe\">\n",
       "  <thead>\n",
       "    <tr style=\"text-align: right;\">\n",
       "      <th></th>\n",
       "      <th>age</th>\n",
       "      <th>sex</th>\n",
       "      <th>bmi</th>\n",
       "      <th>children</th>\n",
       "      <th>smoker</th>\n",
       "      <th>region</th>\n",
       "      <th>charges</th>\n",
       "    </tr>\n",
       "  </thead>\n",
       "  <tbody>\n",
       "    <tr>\n",
       "      <th>age</th>\n",
       "      <td>1.000000</td>\n",
       "      <td>0.019814</td>\n",
       "      <td>0.109344</td>\n",
       "      <td>0.041536</td>\n",
       "      <td>-0.025587</td>\n",
       "      <td>-0.001626</td>\n",
       "      <td>0.298308</td>\n",
       "    </tr>\n",
       "    <tr>\n",
       "      <th>sex</th>\n",
       "      <td>0.019814</td>\n",
       "      <td>1.000000</td>\n",
       "      <td>-0.046397</td>\n",
       "      <td>-0.017848</td>\n",
       "      <td>-0.076596</td>\n",
       "      <td>0.004936</td>\n",
       "      <td>-0.058044</td>\n",
       "    </tr>\n",
       "    <tr>\n",
       "      <th>bmi</th>\n",
       "      <td>0.109344</td>\n",
       "      <td>-0.046397</td>\n",
       "      <td>1.000000</td>\n",
       "      <td>0.012755</td>\n",
       "      <td>0.003746</td>\n",
       "      <td>-0.157574</td>\n",
       "      <td>0.198401</td>\n",
       "    </tr>\n",
       "    <tr>\n",
       "      <th>children</th>\n",
       "      <td>0.041536</td>\n",
       "      <td>-0.017848</td>\n",
       "      <td>0.012755</td>\n",
       "      <td>1.000000</td>\n",
       "      <td>0.007331</td>\n",
       "      <td>-0.016258</td>\n",
       "      <td>0.067389</td>\n",
       "    </tr>\n",
       "    <tr>\n",
       "      <th>smoker</th>\n",
       "      <td>-0.025587</td>\n",
       "      <td>-0.076596</td>\n",
       "      <td>0.003746</td>\n",
       "      <td>0.007331</td>\n",
       "      <td>1.000000</td>\n",
       "      <td>0.002358</td>\n",
       "      <td>0.787234</td>\n",
       "    </tr>\n",
       "    <tr>\n",
       "      <th>region</th>\n",
       "      <td>-0.001626</td>\n",
       "      <td>0.004936</td>\n",
       "      <td>-0.157574</td>\n",
       "      <td>-0.016258</td>\n",
       "      <td>0.002358</td>\n",
       "      <td>1.000000</td>\n",
       "      <td>0.006547</td>\n",
       "    </tr>\n",
       "    <tr>\n",
       "      <th>charges</th>\n",
       "      <td>0.298308</td>\n",
       "      <td>-0.058044</td>\n",
       "      <td>0.198401</td>\n",
       "      <td>0.067389</td>\n",
       "      <td>0.787234</td>\n",
       "      <td>0.006547</td>\n",
       "      <td>1.000000</td>\n",
       "    </tr>\n",
       "  </tbody>\n",
       "</table>\n",
       "</div>"
      ],
      "text/plain": [
       "               age       sex       bmi  children    smoker    region   charges\n",
       "age       1.000000  0.019814  0.109344  0.041536 -0.025587 -0.001626  0.298308\n",
       "sex       0.019814  1.000000 -0.046397 -0.017848 -0.076596  0.004936 -0.058044\n",
       "bmi       0.109344 -0.046397  1.000000  0.012755  0.003746 -0.157574  0.198401\n",
       "children  0.041536 -0.017848  0.012755  1.000000  0.007331 -0.016258  0.067389\n",
       "smoker   -0.025587 -0.076596  0.003746  0.007331  1.000000  0.002358  0.787234\n",
       "region   -0.001626  0.004936 -0.157574 -0.016258  0.002358  1.000000  0.006547\n",
       "charges   0.298308 -0.058044  0.198401  0.067389  0.787234  0.006547  1.000000"
      ]
     },
     "execution_count": 99,
     "metadata": {},
     "output_type": "execute_result"
    }
   ],
   "source": [
    "data.corr()"
   ]
  },
  {
   "cell_type": "code",
   "execution_count": 100,
   "id": "f068b506",
   "metadata": {},
   "outputs": [
    {
     "name": "stdout",
     "output_type": "stream",
     "text": [
      "0.2983082125097863\n"
     ]
    }
   ],
   "source": [
    "# 6. Check the dependency between response and regressors.\n",
    " # There small dependency on charges with respect to the(AGE,BMI) huge dependency on smoker.\n",
    "column_a = data[\"age\"]\n",
    "column_b = data[\"charges\"]\n",
    "correlation = column_a.corr(column_b)\n",
    "print(correlation)"
   ]
  },
  {
   "cell_type": "code",
   "execution_count": 101,
   "id": "0a10ec33",
   "metadata": {},
   "outputs": [
    {
     "name": "stdout",
     "output_type": "stream",
     "text": [
      "-0.058044495790312914\n"
     ]
    }
   ],
   "source": [
    "column_a = data[\"sex\"]\n",
    "column_b = data[\"charges\"]\n",
    "correlation = column_a.corr(column_b)\n",
    "print(correlation)"
   ]
  },
  {
   "cell_type": "code",
   "execution_count": 102,
   "id": "b62f9cd0",
   "metadata": {},
   "outputs": [
    {
     "name": "stdout",
     "output_type": "stream",
     "text": [
      "0.19840083122624935\n"
     ]
    }
   ],
   "source": [
    "column_a = data[\"bmi\"]\n",
    "column_b = data[\"charges\"]\n",
    "correlation = column_a.corr(column_b)\n",
    "print(correlation)"
   ]
  },
  {
   "cell_type": "code",
   "execution_count": 103,
   "id": "27ea6715",
   "metadata": {},
   "outputs": [
    {
     "name": "stdout",
     "output_type": "stream",
     "text": [
      "0.7872343672800326\n"
     ]
    }
   ],
   "source": [
    "column_a = data[\"smoker\"]\n",
    "column_b = data[\"charges\"]\n",
    "correlation = column_a.corr(column_b)\n",
    "print(correlation)"
   ]
  },
  {
   "cell_type": "code",
   "execution_count": 104,
   "id": "963b3360",
   "metadata": {},
   "outputs": [
    {
     "data": {
      "text/html": [
       "<div>\n",
       "<style scoped>\n",
       "    .dataframe tbody tr th:only-of-type {\n",
       "        vertical-align: middle;\n",
       "    }\n",
       "\n",
       "    .dataframe tbody tr th {\n",
       "        vertical-align: top;\n",
       "    }\n",
       "\n",
       "    .dataframe thead th {\n",
       "        text-align: right;\n",
       "    }\n",
       "</style>\n",
       "<table border=\"1\" class=\"dataframe\">\n",
       "  <thead>\n",
       "    <tr style=\"text-align: right;\">\n",
       "      <th></th>\n",
       "      <th>age</th>\n",
       "      <th>sex</th>\n",
       "      <th>bmi</th>\n",
       "      <th>children</th>\n",
       "      <th>smoker</th>\n",
       "      <th>region</th>\n",
       "      <th>charges</th>\n",
       "    </tr>\n",
       "  </thead>\n",
       "  <tbody>\n",
       "    <tr>\n",
       "      <th>age</th>\n",
       "      <td>1.000000</td>\n",
       "      <td>0.019814</td>\n",
       "      <td>0.109344</td>\n",
       "      <td>0.041536</td>\n",
       "      <td>-0.025587</td>\n",
       "      <td>-0.001626</td>\n",
       "      <td>0.298308</td>\n",
       "    </tr>\n",
       "    <tr>\n",
       "      <th>sex</th>\n",
       "      <td>0.019814</td>\n",
       "      <td>1.000000</td>\n",
       "      <td>-0.046397</td>\n",
       "      <td>-0.017848</td>\n",
       "      <td>-0.076596</td>\n",
       "      <td>0.004936</td>\n",
       "      <td>-0.058044</td>\n",
       "    </tr>\n",
       "    <tr>\n",
       "      <th>bmi</th>\n",
       "      <td>0.109344</td>\n",
       "      <td>-0.046397</td>\n",
       "      <td>1.000000</td>\n",
       "      <td>0.012755</td>\n",
       "      <td>0.003746</td>\n",
       "      <td>-0.157574</td>\n",
       "      <td>0.198401</td>\n",
       "    </tr>\n",
       "    <tr>\n",
       "      <th>children</th>\n",
       "      <td>0.041536</td>\n",
       "      <td>-0.017848</td>\n",
       "      <td>0.012755</td>\n",
       "      <td>1.000000</td>\n",
       "      <td>0.007331</td>\n",
       "      <td>-0.016258</td>\n",
       "      <td>0.067389</td>\n",
       "    </tr>\n",
       "    <tr>\n",
       "      <th>smoker</th>\n",
       "      <td>-0.025587</td>\n",
       "      <td>-0.076596</td>\n",
       "      <td>0.003746</td>\n",
       "      <td>0.007331</td>\n",
       "      <td>1.000000</td>\n",
       "      <td>0.002358</td>\n",
       "      <td>0.787234</td>\n",
       "    </tr>\n",
       "    <tr>\n",
       "      <th>region</th>\n",
       "      <td>-0.001626</td>\n",
       "      <td>0.004936</td>\n",
       "      <td>-0.157574</td>\n",
       "      <td>-0.016258</td>\n",
       "      <td>0.002358</td>\n",
       "      <td>1.000000</td>\n",
       "      <td>0.006547</td>\n",
       "    </tr>\n",
       "    <tr>\n",
       "      <th>charges</th>\n",
       "      <td>0.298308</td>\n",
       "      <td>-0.058044</td>\n",
       "      <td>0.198401</td>\n",
       "      <td>0.067389</td>\n",
       "      <td>0.787234</td>\n",
       "      <td>0.006547</td>\n",
       "      <td>1.000000</td>\n",
       "    </tr>\n",
       "  </tbody>\n",
       "</table>\n",
       "</div>"
      ],
      "text/plain": [
       "               age       sex       bmi  children    smoker    region   charges\n",
       "age       1.000000  0.019814  0.109344  0.041536 -0.025587 -0.001626  0.298308\n",
       "sex       0.019814  1.000000 -0.046397 -0.017848 -0.076596  0.004936 -0.058044\n",
       "bmi       0.109344 -0.046397  1.000000  0.012755  0.003746 -0.157574  0.198401\n",
       "children  0.041536 -0.017848  0.012755  1.000000  0.007331 -0.016258  0.067389\n",
       "smoker   -0.025587 -0.076596  0.003746  0.007331  1.000000  0.002358  0.787234\n",
       "region   -0.001626  0.004936 -0.157574 -0.016258  0.002358  1.000000  0.006547\n",
       "charges   0.298308 -0.058044  0.198401  0.067389  0.787234  0.006547  1.000000"
      ]
     },
     "execution_count": 104,
     "metadata": {},
     "output_type": "execute_result"
    }
   ],
   "source": [
    "data.corr()"
   ]
  },
  {
   "cell_type": "code",
   "execution_count": 107,
   "id": "e1b37dfd",
   "metadata": {},
   "outputs": [
    {
     "name": "stdout",
     "output_type": "stream",
     "text": [
      "x :  [[ 1.   19.    1.   27.9   1.  ]\n",
      " [ 1.   18.    0.   33.77  0.  ]\n",
      " [ 1.   28.    0.   33.    0.  ]\n",
      " ...\n",
      " [ 1.   18.    1.   36.85  0.  ]\n",
      " [ 1.   21.    1.   25.8   0.  ]\n",
      " [ 1.   61.    1.   29.07  1.  ]]\n",
      "\n",
      "x Transpose :  [[ 1.    1.    1.   ...  1.    1.    1.  ]\n",
      " [19.   18.   28.   ... 18.   21.   61.  ]\n",
      " [ 1.    0.    0.   ...  1.    1.    1.  ]\n",
      " [27.9  33.77 33.   ... 36.85 25.8  29.07]\n",
      " [ 1.    0.    0.   ...  0.    0.    1.  ]]\n",
      "beta values: [-11736.2886855     259.34292641    106.89267306    323.06893696\n",
      "  23832.22216519]\n",
      "\n",
      "-11736.288685495267\n",
      "259.342926414516\n",
      "106.89267305788599\n",
      "323.06893696491716\n",
      "23832.222165186424\n"
     ]
    }
   ],
   "source": [
    "# 7. Predict the regression Line to predict the charges for insurance using independent variables.\n",
    "a1=data[\"age\"]\n",
    "a2=data[\"sex\"]\n",
    "a3=data[\"bmi\"]\n",
    "a4=data[\"smoker\"]\n",
    "b=data[\"charges\"]\n",
    "\n",
    "a1=np.array(a1)\n",
    "a2=np.array(a2)\n",
    "a3=np.array(a3)\n",
    "a4=np.array(a4)\n",
    "b=np.array(b)\n",
    "\n",
    "n=len(a1)\n",
    "\n",
    "x_ones= np.ones((n,1))\n",
    "\n",
    "a1_new=np.reshape(a1,(n,1))\n",
    "a2_new=np.reshape(a2,(n,1))\n",
    "a3_new=np.reshape(a3,(n,1))\n",
    "a4_new=np.reshape(a4,(n,1))\n",
    "\n",
    "x_new=np.append(x_ones,a1_new,axis=1)\n",
    "x_new=np.append(x_new,a2_new,axis=1)\n",
    "x_new=np.append(x_new,a3_new,axis=1)\n",
    "x_new=np.append(x_new,a4_new,axis=1)\n",
    "\n",
    "print(\"x : \", x_new)\n",
    "print()\n",
    "\n",
    "x_new_transpose = np.transpose(x_new)\n",
    "\n",
    "print(\"x Transpose : \", x_new_transpose)\n",
    "\n",
    "x_new_transpose_dot_x_new = x_new_transpose.dot(x_new)\n",
    "tempa =np.linalg.inv(x_new_transpose_dot_x_new)\n",
    "tempb= x_new_transpose.dot(b)\n",
    "\n",
    "Beeta_values = tempa.dot(tempb)\n",
    "print(\"beta values:\",Beeta_values)\n",
    "print()\n",
    "\n",
    "beta_0=Beeta_values[0]\n",
    "beta_1=Beeta_values[1]\n",
    "beta_2=Beeta_values[2]\n",
    "beta_3=Beeta_values[3]\n",
    "beta_4=Beeta_values[4]\n",
    "\n",
    "print(beta_0)\n",
    "print(beta_1)\n",
    "print(beta_2)\n",
    "print(beta_3)\n",
    "print(beta_4)\n",
    "\n",
    "\n",
    "def predicted_values(beta_0,beta_1,beta_2,beta_3,beta_4,age,sex,bmi,smoker):\n",
    "    predicted_value = beta_0 +(age * beta_1)+ (sex * beta_2) + (bmi * beta_3) + (smoker * beta_4)\n",
    "    return predicted_value\n"
   ]
  },
  {
   "cell_type": "code",
   "execution_count": 108,
   "id": "ee12f385",
   "metadata": {},
   "outputs": [
    {
     "name": "stdout",
     "output_type": "stream",
     "text": [
      "28769.701253787687\n"
     ]
    }
   ],
   "source": [
    "age=29\n",
    "sex=1\n",
    "bmi=28\n",
    "smoker=1\n",
    "\n",
    "print(predicted_values(beta_0,beta_1,beta_2,beta_3,beta_4,age,sex,bmi,smoker))"
   ]
  },
  {
   "cell_type": "code",
   "execution_count": 109,
   "id": "5039252a",
   "metadata": {},
   "outputs": [
    {
     "name": "stdout",
     "output_type": "stream",
     "text": [
      "A:  [[19.    1.   27.9   0.    1.  ]\n",
      " [18.    0.   33.77  1.    0.  ]\n",
      " [28.    0.   33.    3.    0.  ]\n",
      " ...\n",
      " [18.    1.   36.85  0.    0.  ]\n",
      " [21.    1.   25.8   0.    0.  ]\n",
      " [61.    1.   29.07  0.    1.  ]]\n",
      "B:  [16884.924   1725.5523  4449.462  ...  1629.8335  2007.945  29141.3603]\n"
     ]
    }
   ],
   "source": [
    "# 8. Predict the accuracy of the regression Model.\n",
    "a=data.iloc[:,0:5].values\n",
    "b=data.iloc[:,6].values\n",
    "print(\"A: \",a)\n",
    "print(\"B: \",b)"
   ]
  },
  {
   "cell_type": "code",
   "execution_count": 111,
   "id": "49ff37a8",
   "metadata": {},
   "outputs": [
    {
     "name": "stdout",
     "output_type": "stream",
     "text": [
      "Linear Regression Accuracy is 74.37441203005137\n"
     ]
    }
   ],
   "source": [
    "from sklearn.model_selection import train_test_split\n",
    "a_train,a_test,b_train,b_test=train_test_split(a,b,test_size=0.25,random_state=0)\n",
    "\n",
    "from sklearn.linear_model import LinearRegression\n",
    "lin_regressor= LinearRegression()\n",
    "lin_regressor.fit(a_train,b_train)\n",
    "b_predict=lin_regressor.predict(a_test)\n",
    "score=lin_regressor.score(a_test,b_test)\n",
    "print(\"Linear Regression Accuracy is\",score*100)"
   ]
  },
  {
   "cell_type": "code",
   "execution_count": 135,
   "id": "9f4763e4",
   "metadata": {},
   "outputs": [
    {
     "name": "stdout",
     "output_type": "stream",
     "text": [
      "x :  [[ 1.   19.    1.   27.9   1.    1.  ]\n",
      " [ 1.   18.    0.   33.77  0.    2.  ]\n",
      " [ 1.   28.    0.   33.    0.    2.  ]\n",
      " ...\n",
      " [ 1.   18.    1.   36.85  0.    2.  ]\n",
      " [ 1.   21.    1.   25.8   0.    1.  ]\n",
      " [ 1.   61.    1.   29.07  1.    3.  ]]\n",
      "\n",
      "x Transpose :  [[ 1.    1.    1.   ...  1.    1.    1.  ]\n",
      " [19.   18.   28.   ... 18.   21.   61.  ]\n",
      " [ 1.    0.    0.   ...  1.    1.    1.  ]\n",
      " [27.9  33.77 33.   ... 36.85 25.8  29.07]\n",
      " [ 1.    0.    0.   ...  0.    0.    1.  ]\n",
      " [ 1.    2.    2.   ...  2.    1.    3.  ]]\n",
      "beta values: [-12885.51500278    258.90892289    108.83060914    333.06366081\n",
      "  23829.22083425    345.99823508]\n",
      "\n",
      "-12885.515002776927\n",
      "258.9089228865528\n",
      "108.83060914489761\n",
      "333.06366081469605\n",
      "23829.220834248717\n",
      "345.99823508417467\n"
     ]
    }
   ],
   "source": [
    "# 9. Predict insurance charge for Age = 29, Sex = F, bmi = 28, children = 1, Smoke = Yes, region = southeast.\n",
    "a1=data[\"age\"]\n",
    "a2=data[\"sex\"]\n",
    "a3=data[\"bmi\"]\n",
    "a4=data[\"smoker\"]\n",
    "a5=data[\"region\"]\n",
    "b=data[\"charges\"]\n",
    "\n",
    "a1=np.array(a1)\n",
    "a2=np.array(a2)\n",
    "a3=np.array(a3)\n",
    "a4=np.array(a4)\n",
    "a5=np.array(a5)\n",
    "\n",
    "b=np.array(b)\n",
    "\n",
    "n=len(a1)\n",
    "\n",
    "x_ones= np.ones((n,1))\n",
    "\n",
    "a1_new=np.reshape(a1,(n,1))\n",
    "a2_new=np.reshape(a2,(n,1))\n",
    "a3_new=np.reshape(a3,(n,1))\n",
    "a4_new=np.reshape(a4,(n,1))\n",
    "a5_new=np.reshape(a5,(n,1))\n",
    "\n",
    "\n",
    "x_new=np.append(x_ones,a1_new,axis=1)\n",
    "x_new=np.append(x_new,a2_new,axis=1)\n",
    "x_new=np.append(x_new,a3_new,axis=1)\n",
    "x_new=np.append(x_new,a4_new,axis=1)\n",
    "x_new=np.append(x_new,a5_new,axis=1)\n",
    "\n",
    "\n",
    "print(\"x : \", x_new)\n",
    "print()\n",
    "\n",
    "x_new_transpose = np.transpose(x_new)\n",
    "\n",
    "print(\"x Transpose : \", x_new_transpose)\n",
    "\n",
    "x_new_transpose_dot_x_new = x_new_transpose.dot(x_new)\n",
    "tempa =np.linalg.inv(x_new_transpose_dot_x_new)\n",
    "tempb= x_new_transpose.dot(b)\n",
    "\n",
    "Beeta_values = tempa.dot(tempb)\n",
    "print(\"beta values:\",Beeta_values)\n",
    "print()\n",
    "\n",
    "beta_0=Beeta_values[0]\n",
    "beta_1=Beeta_values[1]\n",
    "beta_2=Beeta_values[2]\n",
    "beta_3=Beeta_values[3]\n",
    "beta_4=Beeta_values[4]\n",
    "beta_5=Beeta_values[5]\n",
    "\n",
    "\n",
    "print(beta_0)\n",
    "print(beta_1)\n",
    "print(beta_2)\n",
    "print(beta_3)\n",
    "print(beta_4)\n",
    "print(beta_5)\n",
    "\n",
    "\n",
    "\n",
    "def predicted_values(beta_0,beta_1,beta_2,beta_3,beta_4,beta_5,age,sex,bmi,smoker,region):\n",
    "    predicted_value = beta_0 +(age * beta_1)+ (sex * beta_2) + (bmi * beta_3) + (smoker * beta_4) + (region *beta_5)\n",
    "    return predicted_value\n",
    "\n"
   ]
  },
  {
   "cell_type": "code",
   "execution_count": 121,
   "id": "7254db18",
   "metadata": {},
   "outputs": [
    {
     "name": "stdout",
     "output_type": "stream",
     "text": [
      "28578.67417730656\n"
     ]
    }
   ],
   "source": [
    "age=29\n",
    "sex=1\n",
    "bmi=28\n",
    "smoker=1\n",
    "region=2\n",
    "\n",
    "print(predicted_values(beta_0,beta_1,beta_2,beta_3,beta_4,beta_5,age,sex,bmi,smoker,region))"
   ]
  },
  {
   "cell_type": "code",
   "execution_count": 124,
   "id": "6e3077e1",
   "metadata": {},
   "outputs": [
    {
     "name": "stdout",
     "output_type": "stream",
     "text": [
      "The Mean Square Error is:  235407446944.19275\n"
     ]
    }
   ],
   "source": [
    "# 10. Give the percentage of error in regression model.\n",
    "\n",
    "a= data['charges'].sum()\n",
    "a_bar = data.charges.mean()\n",
    "summation = 0  \n",
    "n =data.charges.size \n",
    "\n",
    "difference = a - a_bar\n",
    "squared_difference = difference**2  \n",
    "summation = summation + squared_difference \n",
    "MSE = summation/n  \n",
    "    \n",
    "print(\"The Mean Square Error is: \" , MSE)"
   ]
  },
  {
   "cell_type": "code",
   "execution_count": 125,
   "id": "43597b6a",
   "metadata": {},
   "outputs": [],
   "source": [
    "# 11. Give the 95% confidence interval for average charge insurance.\n",
    "import numpy as np\n",
    "import pandas as pd\n",
    "import matplotlib.pyplot as plt\n",
    "from scipy import stats\n",
    "import statsmodels.stats.weightstats as sms\n",
    "from scipy.stats import t\n",
    "import math"
   ]
  },
  {
   "cell_type": "code",
   "execution_count": 126,
   "id": "b7750980",
   "metadata": {},
   "outputs": [
    {
     "data": {
      "text/html": [
       "<div>\n",
       "<style scoped>\n",
       "    .dataframe tbody tr th:only-of-type {\n",
       "        vertical-align: middle;\n",
       "    }\n",
       "\n",
       "    .dataframe tbody tr th {\n",
       "        vertical-align: top;\n",
       "    }\n",
       "\n",
       "    .dataframe thead th {\n",
       "        text-align: right;\n",
       "    }\n",
       "</style>\n",
       "<table border=\"1\" class=\"dataframe\">\n",
       "  <thead>\n",
       "    <tr style=\"text-align: right;\">\n",
       "      <th></th>\n",
       "      <th>age</th>\n",
       "      <th>sex</th>\n",
       "      <th>bmi</th>\n",
       "      <th>children</th>\n",
       "      <th>smoker</th>\n",
       "      <th>region</th>\n",
       "      <th>charges</th>\n",
       "    </tr>\n",
       "  </thead>\n",
       "  <tbody>\n",
       "    <tr>\n",
       "      <th>0</th>\n",
       "      <td>19</td>\n",
       "      <td>1</td>\n",
       "      <td>27.900</td>\n",
       "      <td>0</td>\n",
       "      <td>1</td>\n",
       "      <td>1</td>\n",
       "      <td>16884.92400</td>\n",
       "    </tr>\n",
       "    <tr>\n",
       "      <th>1</th>\n",
       "      <td>18</td>\n",
       "      <td>0</td>\n",
       "      <td>33.770</td>\n",
       "      <td>1</td>\n",
       "      <td>0</td>\n",
       "      <td>2</td>\n",
       "      <td>1725.55230</td>\n",
       "    </tr>\n",
       "    <tr>\n",
       "      <th>2</th>\n",
       "      <td>28</td>\n",
       "      <td>0</td>\n",
       "      <td>33.000</td>\n",
       "      <td>3</td>\n",
       "      <td>0</td>\n",
       "      <td>2</td>\n",
       "      <td>4449.46200</td>\n",
       "    </tr>\n",
       "    <tr>\n",
       "      <th>3</th>\n",
       "      <td>33</td>\n",
       "      <td>0</td>\n",
       "      <td>22.705</td>\n",
       "      <td>0</td>\n",
       "      <td>0</td>\n",
       "      <td>3</td>\n",
       "      <td>21984.47061</td>\n",
       "    </tr>\n",
       "    <tr>\n",
       "      <th>4</th>\n",
       "      <td>32</td>\n",
       "      <td>0</td>\n",
       "      <td>28.880</td>\n",
       "      <td>0</td>\n",
       "      <td>0</td>\n",
       "      <td>3</td>\n",
       "      <td>3866.85520</td>\n",
       "    </tr>\n",
       "    <tr>\n",
       "      <th>...</th>\n",
       "      <td>...</td>\n",
       "      <td>...</td>\n",
       "      <td>...</td>\n",
       "      <td>...</td>\n",
       "      <td>...</td>\n",
       "      <td>...</td>\n",
       "      <td>...</td>\n",
       "    </tr>\n",
       "    <tr>\n",
       "      <th>1333</th>\n",
       "      <td>50</td>\n",
       "      <td>0</td>\n",
       "      <td>30.970</td>\n",
       "      <td>3</td>\n",
       "      <td>0</td>\n",
       "      <td>3</td>\n",
       "      <td>10600.54830</td>\n",
       "    </tr>\n",
       "    <tr>\n",
       "      <th>1334</th>\n",
       "      <td>18</td>\n",
       "      <td>1</td>\n",
       "      <td>31.920</td>\n",
       "      <td>0</td>\n",
       "      <td>0</td>\n",
       "      <td>4</td>\n",
       "      <td>2205.98080</td>\n",
       "    </tr>\n",
       "    <tr>\n",
       "      <th>1335</th>\n",
       "      <td>18</td>\n",
       "      <td>1</td>\n",
       "      <td>36.850</td>\n",
       "      <td>0</td>\n",
       "      <td>0</td>\n",
       "      <td>2</td>\n",
       "      <td>1629.83350</td>\n",
       "    </tr>\n",
       "    <tr>\n",
       "      <th>1336</th>\n",
       "      <td>21</td>\n",
       "      <td>1</td>\n",
       "      <td>25.800</td>\n",
       "      <td>0</td>\n",
       "      <td>0</td>\n",
       "      <td>1</td>\n",
       "      <td>2007.94500</td>\n",
       "    </tr>\n",
       "    <tr>\n",
       "      <th>1337</th>\n",
       "      <td>61</td>\n",
       "      <td>1</td>\n",
       "      <td>29.070</td>\n",
       "      <td>0</td>\n",
       "      <td>1</td>\n",
       "      <td>3</td>\n",
       "      <td>29141.36030</td>\n",
       "    </tr>\n",
       "  </tbody>\n",
       "</table>\n",
       "<p>1337 rows × 7 columns</p>\n",
       "</div>"
      ],
      "text/plain": [
       "      age  sex     bmi  children  smoker  region      charges\n",
       "0      19    1  27.900         0       1       1  16884.92400\n",
       "1      18    0  33.770         1       0       2   1725.55230\n",
       "2      28    0  33.000         3       0       2   4449.46200\n",
       "3      33    0  22.705         0       0       3  21984.47061\n",
       "4      32    0  28.880         0       0       3   3866.85520\n",
       "...   ...  ...     ...       ...     ...     ...          ...\n",
       "1333   50    0  30.970         3       0       3  10600.54830\n",
       "1334   18    1  31.920         0       0       4   2205.98080\n",
       "1335   18    1  36.850         0       0       2   1629.83350\n",
       "1336   21    1  25.800         0       0       1   2007.94500\n",
       "1337   61    1  29.070         0       1       3  29141.36030\n",
       "\n",
       "[1337 rows x 7 columns]"
      ]
     },
     "execution_count": 126,
     "metadata": {},
     "output_type": "execute_result"
    }
   ],
   "source": [
    "data"
   ]
  },
  {
   "cell_type": "code",
   "execution_count": 127,
   "id": "38da6e1f",
   "metadata": {},
   "outputs": [
    {
     "data": {
      "text/plain": [
       "13279.121486655948"
      ]
     },
     "execution_count": 127,
     "metadata": {},
     "output_type": "execute_result"
    }
   ],
   "source": [
    "n=1337\n",
    "x_bar =data.charges.mean()\n",
    "x_bar"
   ]
  },
  {
   "cell_type": "code",
   "execution_count": 128,
   "id": "3ea0b137",
   "metadata": {},
   "outputs": [
    {
     "data": {
      "text/plain": [
       "9386.1613"
      ]
     },
     "execution_count": 128,
     "metadata": {},
     "output_type": "execute_result"
    }
   ],
   "source": [
    "m= data.charges.median()\n",
    "m"
   ]
  },
  {
   "cell_type": "code",
   "execution_count": 129,
   "id": "9a3e1b68",
   "metadata": {},
   "outputs": [
    {
     "data": {
      "text/plain": [
       "12110.359656344179"
      ]
     },
     "execution_count": 129,
     "metadata": {},
     "output_type": "execute_result"
    }
   ],
   "source": [
    "Sd = data.charges.std()\n",
    "Sd"
   ]
  },
  {
   "cell_type": "code",
   "execution_count": 131,
   "id": "ed90a81f",
   "metadata": {},
   "outputs": [
    {
     "name": "stdout",
     "output_type": "stream",
     "text": [
      "tstatistics_t = 11.7541\n",
      "Confidence interval with 99% confidence level: (-∞)(13824.2763)\n"
     ]
    }
   ],
   "source": [
    "n = 1337\n",
    "m_0 = m\n",
    "alpha = 0.05\n",
    "t_stat = math.sqrt(n)*(x_bar - m_0)/Sd\n",
    "crit = t.ppf(1-alpha, n-1)\n",
    "wing_span = crit*Sd/(math.sqrt(n))\n",
    "print((\"tstatistics_t = {:.4f}\").format(t_stat))\n",
    "print((\"Confidence interval with 99% confidence level: (-∞)({:.4f})\").format(x_bar+wing_span))"
   ]
  },
  {
   "cell_type": "code",
   "execution_count": null,
   "id": "5c29be29",
   "metadata": {},
   "outputs": [],
   "source": []
  }
 ],
 "metadata": {
  "kernelspec": {
   "display_name": "Python 3 (ipykernel)",
   "language": "python",
   "name": "python3"
  },
  "language_info": {
   "codemirror_mode": {
    "name": "ipython",
    "version": 3
   },
   "file_extension": ".py",
   "mimetype": "text/x-python",
   "name": "python",
   "nbconvert_exporter": "python",
   "pygments_lexer": "ipython3",
   "version": "3.9.7"
  }
 },
 "nbformat": 4,
 "nbformat_minor": 5
}
